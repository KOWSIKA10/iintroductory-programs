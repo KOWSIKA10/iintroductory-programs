{
 "cells": [
  {
   "cell_type": "code",
   "execution_count": 1,
   "metadata": {},
   "outputs": [
    {
     "name": "stdout",
     "output_type": "stream",
     "text": [
      "Hello World\n"
     ]
    }
   ],
   "source": [
    "print(\"Hello World\")\n"
   ]
  },
  {
   "cell_type": "code",
   "execution_count": 3,
   "metadata": {},
   "outputs": [
    {
     "name": "stdout",
     "output_type": "stream",
     "text": [
      "sum of number 1 and number 2 is sum\n"
     ]
    }
   ],
   "source": [
    "number1= 12\n",
    "number2= 20\n",
    "sum= number1+number2\n",
    "print(\"sum of number 1 and number 2 is sum\" .format(number1, number2, sum))\n",
    "\n"
   ]
  },
  {
   "cell_type": "code",
   "execution_count": 4,
   "metadata": {},
   "outputs": [
    {
     "name": "stdout",
     "output_type": "stream",
     "text": [
      "sum of the nnumers is = 35\n"
     ]
    }
   ],
   "source": [
    "#add two numbers\n",
    "num1=12\n",
    "num2=23\n",
    "sum= num1+num2\n",
    "print(\"sum of the nnumers is =\", sum)"
   ]
  },
  {
   "cell_type": "code",
   "execution_count": 6,
   "metadata": {},
   "outputs": [
    {
     "name": "stdout",
     "output_type": "stream",
     "text": [
      "enter the value 1:129\n",
      "enter teh value 2:234\n",
      "sum of the values is : 363.0\n"
     ]
    }
   ],
   "source": [
    "#addition of two user defined numbers\n",
    "num1= float(input(\"enter the value 1:\"))\n",
    "num2= float(input(\"enter teh value 2:\"))\n",
    "sum= num1+num2\n",
    "print(\"sum of the values is :\", sum)"
   ]
  },
  {
   "cell_type": "code",
   "execution_count": null,
   "metadata": {},
   "outputs": [],
   "source": []
  }
 ],
 "metadata": {
  "kernelspec": {
   "display_name": "Python 3",
   "language": "python",
   "name": "python3"
  },
  "language_info": {
   "codemirror_mode": {
    "name": "ipython",
    "version": 3
   },
   "file_extension": ".py",
   "mimetype": "text/x-python",
   "name": "python",
   "nbconvert_exporter": "python",
   "pygments_lexer": "ipython3",
   "version": "3.7.6"
  }
 },
 "nbformat": 4,
 "nbformat_minor": 4
}
